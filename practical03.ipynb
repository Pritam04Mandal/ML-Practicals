{
 "cells": [
  {
   "cell_type": "code",
   "execution_count": 33,
   "metadata": {},
   "outputs": [
    {
     "name": "stdout",
     "output_type": "stream",
     "text": [
      "Coefficients (Least Squares): [189.68340611]\n",
      "Coefficients (Normal Equations): [189.68340611]\n"
     ]
    }
   ],
   "source": [
    "def linear_regression_least_squares(X, y):\n",
    "  \"\"\"Implements linear regression using least squares method.\n",
    "\n",
    "  Args:\n",
    "      X: Features matrix (numpy array).\n",
    "      y: Target prices array (numpy array).\n",
    "\n",
    "  Returns:\n",
    "      beta: Coefficients array (numpy array).\n",
    "  \"\"\"\n",
    "  X_transpose = X.T\n",
    "  dot_product = X_transpose @ X\n",
    "  XTX_inv = np.linalg.inv(dot_product)  # Least squares approach: calculate inverse of (X^T * X)\n",
    "  beta = XTX_inv @ (X_transpose @ y)\n",
    "  return beta\n",
    "\n",
    "def linear_regression_normal_equations(X, y):\n",
    "  \"\"\"Implements linear regression using normal equations.\n",
    "\n",
    "  Args:\n",
    "      X: Features matrix (numpy array).\n",
    "      y: Target prices array (numpy array).\n",
    "\n",
    "  Returns:\n",
    "      beta: Coefficients array (numpy array).\n",
    "  \"\"\"\n",
    "  X_transpose = X.T\n",
    "  dot_product = X.T @ X  # Normal equations approach: calculate dot product directly\n",
    "  XTX_inv = np.linalg.inv(dot_product)\n",
    "  beta = XTX_inv @ (X_transpose @ y)\n",
    "  return beta\n",
    "import pandas as pd\n",
    "import numpy as np\n",
    "\n",
    "df = pd.read_excel('homeprices_uni.xlsx')\n",
    "X = np.array(df[['area']])\n",
    "y = np.array(df['price'])\n",
    "X\n",
    "y\n",
    "beta_ls = linear_regression_least_squares(X, y)\n",
    "beta_ne = linear_regression_normal_equations(X, y)\n",
    "print(\"Coefficients (Least Squares):\", beta_ls)\n",
    "print(\"Coefficients (Normal Equations):\", beta_ne)"
   ]
  },
  {
   "cell_type": "code",
   "execution_count": null,
   "metadata": {},
   "outputs": [],
   "source": []
  }
 ],
 "metadata": {
  "kernelspec": {
   "display_name": ".venv",
   "language": "python",
   "name": "python3"
  },
  "language_info": {
   "codemirror_mode": {
    "name": "ipython",
    "version": 3
   },
   "file_extension": ".py",
   "mimetype": "text/x-python",
   "name": "python",
   "nbconvert_exporter": "python",
   "pygments_lexer": "ipython3",
   "version": "3.10.6"
  }
 },
 "nbformat": 4,
 "nbformat_minor": 2
}
